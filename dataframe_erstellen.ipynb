{
 "cells": [
  {
   "cell_type": "markdown",
   "id": "e2466314",
   "metadata": {},
   "source": [
    "# Datenanaylse des RTzW'95\n",
    "In diesem Notenoob werden die Ergebnisse der Datenanalyse festgehalten."
   ]
  },
  {
   "cell_type": "code",
   "execution_count": null,
   "id": "0a3801c6",
   "metadata": {},
   "outputs": [],
   "source": [
    "import pandas as pd\n",
    "import numpy as np\n",
    "import matplotlib as plt\n",
    "import re"
   ]
  },
  {
   "cell_type": "markdown",
   "id": "8452a07e",
   "metadata": {},
   "source": [
    "---\n",
    "## Erstellen des Dataframes"
   ]
  },
  {
   "cell_type": "code",
   "execution_count": 9,
   "id": "5fb90a07",
   "metadata": {},
   "outputs": [
    {
     "name": "stdout",
     "output_type": "stream",
     "text": [
      "DataFrame created with columns: Fassung, Datum, Artikel, Inhalt, Anzahl_woerter\n"
     ]
    },
    {
     "data": {
      "text/html": [
       "<div>\n",
       "<style scoped>\n",
       "    .dataframe tbody tr th:only-of-type {\n",
       "        vertical-align: middle;\n",
       "    }\n",
       "\n",
       "    .dataframe tbody tr th {\n",
       "        vertical-align: top;\n",
       "    }\n",
       "\n",
       "    .dataframe thead th {\n",
       "        text-align: right;\n",
       "    }\n",
       "</style>\n",
       "<table border=\"1\" class=\"dataframe\">\n",
       "  <thead>\n",
       "    <tr style=\"text-align: right;\">\n",
       "      <th></th>\n",
       "      <th>Fassung</th>\n",
       "      <th>Datum</th>\n",
       "      <th>Artikel</th>\n",
       "      <th>Inhalt</th>\n",
       "      <th>Anzahl_woerter</th>\n",
       "    </tr>\n",
       "  </thead>\n",
       "  <tbody>\n",
       "  </tbody>\n",
       "</table>\n",
       "</div>"
      ],
      "text/plain": [
       "Empty DataFrame\n",
       "Columns: [Fassung, Datum, Artikel, Inhalt, Anzahl_woerter]\n",
       "Index: []"
      ]
     },
     "execution_count": 9,
     "metadata": {},
     "output_type": "execute_result"
    }
   ],
   "source": [
    "# Create the DataFrame\n",
    "# \"Fassung\",\"Artikel\",\"Inhalt\" are strings, \n",
    "# \"Datum\" is a datetime and \"Anzahl_woerter\" is an integer.\n",
    "# \"Fassung\" and \"Artikel\" or \"Datum\" and \"Artikel\" are unique identifiers.\n",
    "df = pd.DataFrame({\n",
    "    \"Fassung\": [],\n",
    "    \"Datum\": [],\n",
    "    \"Artikel\": [],\n",
    "    \"Inhalt\": [],\n",
    "    \"Anzahl_woerter\": [],\n",
    "})\n",
    "print(\"DataFrame created with columns: Fassung, Datum, Artikel, Inhalt, Anzahl_woerter\")\n",
    "df.head()"
   ]
  },
  {
   "cell_type": "code",
   "execution_count": null,
   "id": "7ee93584",
   "metadata": {},
   "outputs": [],
   "source": [
    "# Datum für jede Fassung\n",
    "date_dict = {\n",
    "    1 : \"28.04.1495\",\n",
    "    2 : \"15.05.1495\",\n",
    "    3 : \"01.06.1495\",\n",
    "    4 : \"07.08.1495\",\n",
    "}\n",
    "\n",
    "\n",
    "def fill_dataframe_from_txt(file_path):\n",
    "    entries = []\n",
    "    fassung = None\n",
    "    artikel = None\n",
    "    text_lines = []\n",
    "\n",
    "    with open(file_path, \"r\", encoding=\"utf-8\") as file:\n",
    "        for line in file:\n",
    "            line = line.strip()\n",
    "\n",
    "            # Neue Fassung erkennen (sowohl \"# 2. Fassung #\" als auch \"# 2. Fassung ---------------------------------\")\n",
    "            if match_fassung := re.search(r\"#\\s*(\\d+)\\.\\s*Fassung\", line):\n",
    "                # Vorherigen Artikel speichern, falls vorhanden\n",
    "                if artikel and text_lines:\n",
    "                    text = \" \".join(text_lines).strip()\n",
    "                    entries.append(\n",
    "                        {\n",
    "                            \"Fassung\": fassung,\n",
    "                            \"Datum\": date_dict.get(fassung, \"unbekannt\"),\n",
    "                            \"Artikel\": artikel,\n",
    "                            \"Inhalt\": text,\n",
    "                            \"Anzahl_Woerter\": len(text.split()),\n",
    "                        }\n",
    "                    )\n",
    "                fassung = int(match_fassung.group(1))\n",
    "                artikel = None\n",
    "                text_lines = []\n",
    "                continue\n",
    "\n",
    "            # Artikelanfang erkennen (z.B. 1., 12., etc.)\n",
    "            if match_artikel := re.match(r\"^(\\d{1,2}\\.)\\s\", line):\n",
    "                # Vorherigen Artikel speichern\n",
    "                if artikel and text_lines:\n",
    "                    text = \" \".join(text_lines).strip()\n",
    "                    entries.append(\n",
    "                        {\n",
    "                            \"Fassung\": fassung,\n",
    "                            \"Datum\": date_dict.get(fassung, \"unbekannt\"),\n",
    "                            \"Artikel\": artikel,\n",
    "                            \"Inhalt\": text,\n",
    "                            \"Anzahl_Woerter\": len(text.split()),\n",
    "                        }\n",
    "                    )\n",
    "                artikel = match_artikel.group(1)\n",
    "                text_lines = [line]  # Starte mit dieser Zeile\n",
    "            elif artikel:\n",
    "                # Fortsetzung des Artikels\n",
    "                text_lines.append(line)\n",
    "\n",
    "        # Letzten Artikel speichern\n",
    "        if artikel and text_lines:\n",
    "            text = \" \".join(text_lines).strip()\n",
    "            entries.append(\n",
    "                {\n",
    "                    \"Fassung\": fassung,\n",
    "                    \"Datum\": date_dict.get(fassung, \"unbekannt\"),\n",
    "                    \"Artikel\": artikel,\n",
    "                    \"Inhalt\": text,\n",
    "                    \"Anzahl_Woerter\": len(text.split()),\n",
    "                }\n",
    "            )\n",
    "\n",
    "    return pd.DataFrame(entries)\n",
    "\n",
    "\n",
    "# Beispielhafte Verwendung:\n",
    "df = fill_dataframe_from_txt(\"Python-OCR/OCR-Text/RKG_cleaned.txt\")"
   ]
  },
  {
   "cell_type": "code",
   "execution_count": 39,
   "id": "65ac2193",
   "metadata": {},
   "outputs": [],
   "source": [
    "# remove intergers at the beginning of the \"Inhalt\" column\n",
    "def remove_integers_from_inhalt(df):\n",
    "    df[\"Inhalt\"] = df[\"Inhalt\"].apply(lambda x: re.sub(r'^\\d+\\.\\s*', '', x))\n",
    "    return df\n",
    "df = remove_integers_from_inhalt(df)\n",
    "\n",
    "# remove dots at the end of \"Artikel\" column\n",
    "def remove_dots_from_artikel(df):\n",
    "    df[\"Artikel\"] = df[\"Artikel\"].apply(lambda x: re.sub(r'\\.$', '', x))\n",
    "    # convert \"Artikel\" to integer type\n",
    "    df[\"Artikel\"] = pd.to_numeric(df[\"Artikel\"], errors='coerce').astype('Int64')\n",
    "    return df\n",
    "df = remove_dots_from_artikel(df)"
   ]
  },
  {
   "cell_type": "code",
   "execution_count": null,
   "id": "3ff6d5b6",
   "metadata": {},
   "outputs": [],
   "source": [
    "df.head()"
   ]
  },
  {
   "cell_type": "code",
   "execution_count": null,
   "id": "57c67512",
   "metadata": {},
   "outputs": [
    {
     "name": "stdout",
     "output_type": "stream",
     "text": [
      "<class 'pandas.core.frame.DataFrame'>\n",
      "RangeIndex: 120 entries, 0 to 119\n",
      "Data columns (total 5 columns):\n",
      " #   Column          Non-Null Count  Dtype \n",
      "---  ------          --------------  ----- \n",
      " 0   Fassung         120 non-null    int64 \n",
      " 1   Datum           120 non-null    object\n",
      " 2   Artikel         120 non-null    Int64 \n",
      " 3   Inhalt          120 non-null    object\n",
      " 4   Anzahl_Woerter  120 non-null    int64 \n",
      "dtypes: Int64(1), int64(2), object(2)\n",
      "memory usage: 4.9+ KB\n"
     ]
    }
   ],
   "source": [
    "df.info()"
   ]
  },
  {
   "cell_type": "code",
   "execution_count": 44,
   "id": "50793a5d",
   "metadata": {},
   "outputs": [
    {
     "name": "stdout",
     "output_type": "stream",
     "text": [
      "Unique Artikel: [ 1  2  3  4  5  6  7  8  9 10 11 12 13 14 15 16 17 18 19 20 21 22 23 24\n",
      " 25 26 27 28 29 30 31 32]\n",
      "Unique Fassungen: [1 2 3 4]\n"
     ]
    }
   ],
   "source": [
    "# get the unique items in the \"Fassung\" column\n",
    "unique_fassungen = df[\"Fassung\"].unique()\n",
    "unique_artiekel = df[\"Artikel\"].unique()\n",
    "unique_artiekel = np.sort(unique_artiekel)\n",
    "print(f\"Unique Artikel: {unique_artiekel}\")\n",
    "print(f\"Unique Fassungen: {unique_fassungen}\")"
   ]
  },
  {
   "cell_type": "code",
   "execution_count": null,
   "id": "252b981c",
   "metadata": {},
   "outputs": [],
   "source": []
  }
 ],
 "metadata": {
  "kernelspec": {
   "display_name": "VirtEnv",
   "language": "python",
   "name": "python3"
  },
  "language_info": {
   "codemirror_mode": {
    "name": "ipython",
    "version": 3
   },
   "file_extension": ".py",
   "mimetype": "text/x-python",
   "name": "python",
   "nbconvert_exporter": "python",
   "pygments_lexer": "ipython3",
   "version": "3.12.3"
  }
 },
 "nbformat": 4,
 "nbformat_minor": 5
}
