{
 "cells": [
  {
   "cell_type": "markdown",
   "id": "e2466314",
   "metadata": {},
   "source": [
    "# Datenanaylse des RTzW'95\n",
    "In diesem Notebook werden die Ergebnisse der Datenanalyse festgehalten.\n",
    "Zuvor ist es mit\n",
    "'source VirtEnv/bin/activate' zu starten. "
   ]
  },
  {
   "cell_type": "code",
   "execution_count": 1,
   "id": "5002fddc",
   "metadata": {},
   "outputs": [
    {
     "name": "stdout",
     "output_type": "stream",
     "text": [
      "Requirement already satisfied: pandas in ./.venv/lib/python3.12/site-packages (2.3.2)\n",
      "Requirement already satisfied: numpy>=1.26.0 in ./.venv/lib/python3.12/site-packages (from pandas) (2.3.3)\n",
      "Requirement already satisfied: python-dateutil>=2.8.2 in ./.venv/lib/python3.12/site-packages (from pandas) (2.9.0.post0)\n",
      "Requirement already satisfied: pytz>=2020.1 in ./.venv/lib/python3.12/site-packages (from pandas) (2025.2)\n",
      "Requirement already satisfied: tzdata>=2022.7 in ./.venv/lib/python3.12/site-packages (from pandas) (2025.2)\n",
      "Requirement already satisfied: six>=1.5 in ./.venv/lib/python3.12/site-packages (from python-dateutil>=2.8.2->pandas) (1.17.0)\n",
      "Requirement already satisfied: numpy in ./.venv/lib/python3.12/site-packages (2.3.3)\n",
      "Requirement already satisfied: matplotlib in ./.venv/lib/python3.12/site-packages (3.10.6)\n",
      "Requirement already satisfied: contourpy>=1.0.1 in ./.venv/lib/python3.12/site-packages (from matplotlib) (1.3.3)\n",
      "Requirement already satisfied: cycler>=0.10 in ./.venv/lib/python3.12/site-packages (from matplotlib) (0.12.1)\n",
      "Requirement already satisfied: fonttools>=4.22.0 in ./.venv/lib/python3.12/site-packages (from matplotlib) (4.59.2)\n",
      "Requirement already satisfied: kiwisolver>=1.3.1 in ./.venv/lib/python3.12/site-packages (from matplotlib) (1.4.9)\n",
      "Requirement already satisfied: numpy>=1.23 in ./.venv/lib/python3.12/site-packages (from matplotlib) (2.3.3)\n",
      "Requirement already satisfied: packaging>=20.0 in ./.venv/lib/python3.12/site-packages (from matplotlib) (25.0)\n",
      "Requirement already satisfied: pillow>=8 in ./.venv/lib/python3.12/site-packages (from matplotlib) (11.3.0)\n",
      "Requirement already satisfied: pyparsing>=2.3.1 in ./.venv/lib/python3.12/site-packages (from matplotlib) (3.2.4)\n",
      "Requirement already satisfied: python-dateutil>=2.7 in ./.venv/lib/python3.12/site-packages (from matplotlib) (2.9.0.post0)\n",
      "Requirement already satisfied: six>=1.5 in ./.venv/lib/python3.12/site-packages (from python-dateutil>=2.7->matplotlib) (1.17.0)\n"
     ]
    }
   ],
   "source": [
    "!pip install pandas\n",
    "!pip install numpy\n",
    "!pip install matplotlib\n"
   ]
  },
  {
   "cell_type": "code",
   "execution_count": null,
   "id": "0a3801c6",
   "metadata": {},
   "outputs": [],
   "source": [
    "import pandas as pd\n",
    "import numpy as np\n",
    "import re"
   ]
  },
  {
   "cell_type": "markdown",
   "id": "8452a07e",
   "metadata": {},
   "source": [
    "---\n",
    "## Erstellen des Dataframes"
   ]
  },
  {
   "cell_type": "code",
   "execution_count": 3,
   "id": "5fb90a07",
   "metadata": {},
   "outputs": [
    {
     "name": "stdout",
     "output_type": "stream",
     "text": [
      "DataFrame created with columns: Fassung, Datum, Artikel, Inhalt, Anzahl_woerter\n"
     ]
    },
    {
     "data": {
      "text/html": [
       "<div>\n",
       "<style scoped>\n",
       "    .dataframe tbody tr th:only-of-type {\n",
       "        vertical-align: middle;\n",
       "    }\n",
       "\n",
       "    .dataframe tbody tr th {\n",
       "        vertical-align: top;\n",
       "    }\n",
       "\n",
       "    .dataframe thead th {\n",
       "        text-align: right;\n",
       "    }\n",
       "</style>\n",
       "<table border=\"1\" class=\"dataframe\">\n",
       "  <thead>\n",
       "    <tr style=\"text-align: right;\">\n",
       "      <th></th>\n",
       "      <th>Fassung</th>\n",
       "      <th>Datum</th>\n",
       "      <th>Artikel</th>\n",
       "      <th>Inhalt</th>\n",
       "      <th>Anzahl_woerter</th>\n",
       "    </tr>\n",
       "  </thead>\n",
       "  <tbody>\n",
       "  </tbody>\n",
       "</table>\n",
       "</div>"
      ],
      "text/plain": [
       "Empty DataFrame\n",
       "Columns: [Fassung, Datum, Artikel, Inhalt, Anzahl_woerter]\n",
       "Index: []"
      ]
     },
     "execution_count": 3,
     "metadata": {},
     "output_type": "execute_result"
    }
   ],
   "source": [
    "# Create the DataFrame\n",
    "# \"Fassung\",\"Artikel\",\"Inhalt\" are strings, \n",
    "# \"Datum\" is a datetime and \"Anzahl_woerter\" is an integer.\n",
    "# \"Fassung\" and \"Artikel\" or \"Datum\" and \"Artikel\" are unique identifiers.\n",
    "df = pd.DataFrame({\n",
    "    \"Fassung\": [],\n",
    "    \"Datum\": [],\n",
    "    \"Artikel\": [],\n",
    "    \"Inhalt\": [],\n",
    "    \"Anzahl_woerter\": [],\n",
    "})\n",
    "print(\"DataFrame created with columns: Fassung, Datum, Artikel, Inhalt, Anzahl_woerter\")\n",
    "df.head()"
   ]
  },
  {
   "cell_type": "code",
   "execution_count": 4,
   "id": "7ee93584",
   "metadata": {},
   "outputs": [],
   "source": [
    "# Datum für jede Fassung\n",
    "date_dict = {\n",
    "    1 : \"28.04.1495\",\n",
    "    2 : \"15.05.1495\",\n",
    "    3 : \"01.06.1495\",\n",
    "    4 : \"07.08.1495\",\n",
    "}\n",
    "\n",
    "\n",
    "def fill_dataframe_from_txt(file_path):\n",
    "    entries = []\n",
    "    fassung = None\n",
    "    artikel = None\n",
    "    text_lines = []\n",
    "\n",
    "    with open(file_path, \"r\", encoding=\"utf-8\") as file:\n",
    "        for line in file:\n",
    "            line = line.strip()\n",
    "\n",
    "            # Neue Fassung erkennen (sowohl \"# 2. Fassung #\" als auch \"# 2. Fassung ---------------------------------\")\n",
    "            if match_fassung := re.search(r\"#\\s*(\\d+)\\.\\s*Fassung\", line):\n",
    "                # Vorherigen Artikel speichern, falls vorhanden\n",
    "                if artikel and text_lines:\n",
    "                    text = \" \".join(text_lines).strip()\n",
    "                    entries.append(\n",
    "                        {\n",
    "                            \"Fassung\": fassung,\n",
    "                            \"Datum\": date_dict.get(fassung, \"unbekannt\"),\n",
    "                            \"Artikel\": artikel,\n",
    "                            \"Inhalt\": text,\n",
    "                            \"Anzahl_Woerter\": len(text.split()),\n",
    "                        }\n",
    "                    )\n",
    "                fassung = int(match_fassung.group(1))\n",
    "                artikel = None\n",
    "                text_lines = []\n",
    "                continue\n",
    "\n",
    "            # Artikelanfang erkennen (z.B. 1., 12., etc.)\n",
    "            if match_artikel := re.match(r\"^(\\d{1,2}\\.)\\s\", line):\n",
    "                # Vorherigen Artikel speichern\n",
    "                if artikel and text_lines:\n",
    "                    text = \" \".join(text_lines).strip()\n",
    "                    entries.append(\n",
    "                        {\n",
    "                            \"Fassung\": fassung,\n",
    "                            \"Datum\": date_dict.get(fassung, \"unbekannt\"),\n",
    "                            \"Artikel\": artikel,\n",
    "                            \"Inhalt\": text,\n",
    "                            \"Anzahl_Woerter\": len(text.split()),\n",
    "                        }\n",
    "                    )\n",
    "                artikel = match_artikel.group(1)\n",
    "                text_lines = [line]  # Starte mit dieser Zeile\n",
    "            elif artikel:\n",
    "                # Fortsetzung des Artikels\n",
    "                text_lines.append(line)\n",
    "\n",
    "        # Letzten Artikel speichern\n",
    "        if artikel and text_lines:\n",
    "            text = \" \".join(text_lines).strip()\n",
    "            entries.append(\n",
    "                {\n",
    "                    \"Fassung\": fassung,\n",
    "                    \"Datum\": date_dict.get(fassung, \"unbekannt\"),\n",
    "                    \"Artikel\": artikel,\n",
    "                    \"Inhalt\": text,\n",
    "                    \"Anzahl_Woerter\": len(text.split()),\n",
    "                }\n",
    "            )\n",
    "\n",
    "    return pd.DataFrame(entries)\n",
    "\n",
    "\n",
    "# Beispielhafte Verwendung:\n",
    "df = fill_dataframe_from_txt(\"Python-OCR/OCR-Text/RKG_cleaned.txt\")"
   ]
  },
  {
   "cell_type": "code",
   "execution_count": 5,
   "id": "65ac2193",
   "metadata": {},
   "outputs": [],
   "source": [
    "# remove intergers at the beginning of the \"Inhalt\" column\n",
    "def remove_integers_from_inhalt(df):\n",
    "    df[\"Inhalt\"] = df[\"Inhalt\"].apply(lambda x: re.sub(r'^\\d+\\.\\s*', '', x))\n",
    "    return df\n",
    "df = remove_integers_from_inhalt(df)\n",
    "\n",
    "# remove dots at the end of \"Artikel\" column\n",
    "def remove_dots_from_artikel(df):\n",
    "    df[\"Artikel\"] = df[\"Artikel\"].apply(lambda x: re.sub(r'\\.$', '', x))\n",
    "    # convert \"Artikel\" to integer type\n",
    "    df[\"Artikel\"] = pd.to_numeric(df[\"Artikel\"], errors='coerce').astype('Int64')\n",
    "    return df\n",
    "df = remove_dots_from_artikel(df)"
   ]
  },
  {
   "cell_type": "code",
   "execution_count": 6,
   "id": "3ff6d5b6",
   "metadata": {},
   "outputs": [
    {
     "data": {
      "text/html": [
       "<div>\n",
       "<style scoped>\n",
       "    .dataframe tbody tr th:only-of-type {\n",
       "        vertical-align: middle;\n",
       "    }\n",
       "\n",
       "    .dataframe tbody tr th {\n",
       "        vertical-align: top;\n",
       "    }\n",
       "\n",
       "    .dataframe thead th {\n",
       "        text-align: right;\n",
       "    }\n",
       "</style>\n",
       "<table border=\"1\" class=\"dataframe\">\n",
       "  <thead>\n",
       "    <tr style=\"text-align: right;\">\n",
       "      <th></th>\n",
       "      <th>Fassung</th>\n",
       "      <th>Datum</th>\n",
       "      <th>Artikel</th>\n",
       "      <th>Inhalt</th>\n",
       "      <th>Anzahl_Woerter</th>\n",
       "    </tr>\n",
       "  </thead>\n",
       "  <tbody>\n",
       "    <tr>\n",
       "      <th>0</th>\n",
       "      <td>1</td>\n",
       "      <td>28.04.1495</td>\n",
       "      <td>1</td>\n",
       "      <td>Zum ersten, das cammergericht zu besotzen mit ...</td>\n",
       "      <td>270</td>\n",
       "    </tr>\n",
       "    <tr>\n",
       "      <th>1</th>\n",
       "      <td>1</td>\n",
       "      <td>28.04.1495</td>\n",
       "      <td>2</td>\n",
       "      <td>Item so der urteler ainer oder mehr oder auch ...</td>\n",
       "      <td>88</td>\n",
       "    </tr>\n",
       "    <tr>\n",
       "      <th>2</th>\n",
       "      <td>1</td>\n",
       "      <td>28.04.1495</td>\n",
       "      <td>3</td>\n",
       "      <td>Des richters und der heysitzor aid. Item die a...</td>\n",
       "      <td>190</td>\n",
       "    </tr>\n",
       "    <tr>\n",
       "      <th>3</th>\n",
       "      <td>1</td>\n",
       "      <td>28.04.1495</td>\n",
       "      <td>4</td>\n",
       "      <td>Item es soll kain citacion oder ladung ausgeen...</td>\n",
       "      <td>109</td>\n",
       "    </tr>\n",
       "    <tr>\n",
       "      <th>4</th>\n",
       "      <td>1</td>\n",
       "      <td>28.04.1495</td>\n",
       "      <td>5</td>\n",
       "      <td>gerichtschreiber aid: Item durch den cammerric...</td>\n",
       "      <td>199</td>\n",
       "    </tr>\n",
       "  </tbody>\n",
       "</table>\n",
       "</div>"
      ],
      "text/plain": [
       "   Fassung       Datum  Artikel  \\\n",
       "0        1  28.04.1495        1   \n",
       "1        1  28.04.1495        2   \n",
       "2        1  28.04.1495        3   \n",
       "3        1  28.04.1495        4   \n",
       "4        1  28.04.1495        5   \n",
       "\n",
       "                                              Inhalt  Anzahl_Woerter  \n",
       "0  Zum ersten, das cammergericht zu besotzen mit ...             270  \n",
       "1  Item so der urteler ainer oder mehr oder auch ...              88  \n",
       "2  Des richters und der heysitzor aid. Item die a...             190  \n",
       "3  Item es soll kain citacion oder ladung ausgeen...             109  \n",
       "4  gerichtschreiber aid: Item durch den cammerric...             199  "
      ]
     },
     "execution_count": 6,
     "metadata": {},
     "output_type": "execute_result"
    }
   ],
   "source": [
    "df.head()"
   ]
  },
  {
   "cell_type": "code",
   "execution_count": 7,
   "id": "57c67512",
   "metadata": {},
   "outputs": [
    {
     "name": "stdout",
     "output_type": "stream",
     "text": [
      "<class 'pandas.core.frame.DataFrame'>\n",
      "RangeIndex: 120 entries, 0 to 119\n",
      "Data columns (total 5 columns):\n",
      " #   Column          Non-Null Count  Dtype \n",
      "---  ------          --------------  ----- \n",
      " 0   Fassung         120 non-null    int64 \n",
      " 1   Datum           120 non-null    object\n",
      " 2   Artikel         120 non-null    Int64 \n",
      " 3   Inhalt          120 non-null    object\n",
      " 4   Anzahl_Woerter  120 non-null    int64 \n",
      "dtypes: Int64(1), int64(2), object(2)\n",
      "memory usage: 4.9+ KB\n"
     ]
    }
   ],
   "source": [
    "df.info()"
   ]
  },
  {
   "cell_type": "code",
   "execution_count": 8,
   "id": "50793a5d",
   "metadata": {},
   "outputs": [
    {
     "name": "stdout",
     "output_type": "stream",
     "text": [
      "Einzigartige Artikel: [ 1  2  3  4  5  6  7  8  9 10 11 12 13 14 15 16 17 18 19 20 21 22 23 24\n",
      " 25 26 27 28 29 30 31 32]\n",
      "Einzigartige Fassungen: [1 2 3 4]\n"
     ]
    }
   ],
   "source": [
    "# get the unique items in the \"Fassung\" column\n",
    "unique_fassungen = df[\"Fassung\"].unique()\n",
    "unique_artiekel = df[\"Artikel\"].unique()\n",
    "unique_artiekel = np.sort(unique_artiekel)\n",
    "print(f\"Einzigartige Artikel: {unique_artiekel}\")\n",
    "print(f\"Einzigartige Fassungen: {unique_fassungen}\")"
   ]
  },
  {
   "cell_type": "markdown",
   "id": "1baa5845",
   "metadata": {},
   "source": [
    "---\n",
    "# Sichern des Dataframes\n",
    "Das Dataframe wird in eine CSV (Coma Seperates Values Datei) geschrieben. Diese lässt sich besser auslesen"
   ]
  },
  {
   "cell_type": "code",
   "execution_count": 10,
   "id": "b6e757e0",
   "metadata": {},
   "outputs": [],
   "source": [
    "# Das Dataframe wird in eine CSV geschrieben. Als Trennzeichen wird ein Pipe-Symbol verwendet,\n",
    "#  um Probleme mit Kommas im Text zu vermeiden.\n",
    "csv_dataframe = df.to_csv(\"RKG_dataframe.csv\", index=False, sep='|', encoding='utf-8')"
   ]
  }
 ],
 "metadata": {
  "kernelspec": {
   "display_name": ".venv",
   "language": "python",
   "name": "python3"
  },
  "language_info": {
   "codemirror_mode": {
    "name": "ipython",
    "version": 3
   },
   "file_extension": ".py",
   "mimetype": "text/x-python",
   "name": "python",
   "nbconvert_exporter": "python",
   "pygments_lexer": "ipython3",
   "version": "3.12.3"
  }
 },
 "nbformat": 4,
 "nbformat_minor": 5
}
